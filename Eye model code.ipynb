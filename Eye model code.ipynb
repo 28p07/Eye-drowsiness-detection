{
 "cells": [
  {
   "cell_type": "markdown",
   "id": "943eedf2",
   "metadata": {},
   "source": [
    "### Importing Libraries"
   ]
  },
  {
   "cell_type": "code",
   "execution_count": 1,
   "id": "afc71817",
   "metadata": {},
   "outputs": [
    {
     "name": "stdout",
     "output_type": "stream",
     "text": [
      "WARNING:tensorflow:From C:\\Users\\Acer\\anaconda3\\lib\\site-packages\\keras\\src\\losses.py:2976: The name tf.losses.sparse_softmax_cross_entropy is deprecated. Please use tf.compat.v1.losses.sparse_softmax_cross_entropy instead.\n",
      "\n"
     ]
    }
   ],
   "source": [
    "import matplotlib.pyplot as plt\n",
    "from glob import glob\n",
    "import cv2 as cv\n",
    "import random\n",
    "import os\n",
    "\n",
    "\n",
    "from tensorflow.keras.preprocessing.image import ImageDataGenerator\n",
    "from tensorflow.keras.layers import Dense,Input,Dropout,Flatten,Conv2D\n",
    "from tensorflow.keras.layers import BatchNormalization,MaxPooling2D,Activation\n",
    "from tensorflow.keras.models import Model,Sequential\n",
    "from tensorflow.keras.optimizers import Adam\n",
    "from tensorflow.keras.callbacks import ModelCheckpoint,ReduceLROnPlateau\n",
    "from tensorflow.keras.utils import plot_model\n",
    "from IPython.display import SVG,Image"
   ]
  },
  {
   "cell_type": "markdown",
   "id": "5cabf05c",
   "metadata": {},
   "source": [
    "### Preparing data for training"
   ]
  },
  {
   "cell_type": "code",
   "execution_count": 2,
   "id": "80f2b8c3",
   "metadata": {},
   "outputs": [
    {
     "name": "stdout",
     "output_type": "stream",
     "text": [
      "Found 3780 images belonging to 2 classes.\n",
      "Found 1068 images belonging to 2 classes.\n"
     ]
    }
   ],
   "source": [
    "img_size = 24\n",
    "batch_size = 32\n",
    "\n",
    "datagen_train = ImageDataGenerator(rescale = (1./255))\n",
    "train_generator = datagen_train.flow_from_directory(\"data/train\",\n",
    "                                                   target_size = (img_size,img_size),\n",
    "                                                   color_mode = \"grayscale\",\n",
    "                                                   batch_size = batch_size,\n",
    "                                                   class_mode = \"categorical\",\n",
    "                                                   shuffle = True)\n",
    "\n",
    "datagen_validation = ImageDataGenerator(rescale=(1./255))\n",
    "validation_generator = datagen_validation.flow_from_directory(\"data/valid\",\n",
    "                                                   target_size = (img_size,img_size),\n",
    "                                                   color_mode = \"grayscale\",\n",
    "                                                   batch_size = batch_size,\n",
    "                                                   class_mode = \"categorical\",\n",
    "                                                   shuffle = True)\n"
   ]
  },
  {
   "cell_type": "markdown",
   "id": "e59aa427",
   "metadata": {},
   "source": [
    "### Defining model"
   ]
  },
  {
   "cell_type": "code",
   "execution_count": 3,
   "id": "a728edb4",
   "metadata": {},
   "outputs": [
    {
     "name": "stdout",
     "output_type": "stream",
     "text": [
      "WARNING:tensorflow:From C:\\Users\\Acer\\anaconda3\\lib\\site-packages\\keras\\src\\backend.py:873: The name tf.get_default_graph is deprecated. Please use tf.compat.v1.get_default_graph instead.\n",
      "\n",
      "WARNING:tensorflow:From C:\\Users\\Acer\\anaconda3\\lib\\site-packages\\keras\\src\\layers\\pooling\\max_pooling2d.py:161: The name tf.nn.max_pool is deprecated. Please use tf.nn.max_pool2d instead.\n",
      "\n"
     ]
    }
   ],
   "source": [
    "model = Sequential([\n",
    "    Conv2D(32, kernel_size=(3, 3), activation='relu', input_shape=(24,24,1)),\n",
    "    BatchNormalization(),\n",
    "    Conv2D(32, (3, 3), activation='relu'),\n",
    "    MaxPooling2D(pool_size=(2, 2)),\n",
    "    \n",
    "    Conv2D(64, (3, 3), activation='relu'),\n",
    "    MaxPooling2D(pool_size=(2, 2)),\n",
    "    \n",
    "    Conv2D(128, (3, 3), activation='relu'),\n",
    "    MaxPooling2D(pool_size=(2, 2)),\n",
    "    \n",
    "    Dropout(0.25),\n",
    "    \n",
    "    Flatten(),\n",
    "    \n",
    "    Dense(256, activation='relu'),\n",
    "    Dropout(0.5),\n",
    "    \n",
    "    Dense(128, activation='relu'),\n",
    "    Dropout(0.5),\n",
    "    \n",
    "    Dense(2, activation='softmax')\n",
    "])\n"
   ]
  },
  {
   "cell_type": "markdown",
   "id": "dbad5db5",
   "metadata": {},
   "source": [
    "### Initialising the model"
   ]
  },
  {
   "cell_type": "code",
   "execution_count": 4,
   "id": "2633401f",
   "metadata": {},
   "outputs": [],
   "source": [
    "epochs = 25\n",
    "\n",
    "steps_per_epoch = train_generator.n//train_generator.batch_size\n",
    "validation_steps = validation_generator.n//validation_generator.batch_size"
   ]
  },
  {
   "cell_type": "markdown",
   "id": "e3f15ab8",
   "metadata": {},
   "source": [
    "### Training the model"
   ]
  },
  {
   "cell_type": "code",
   "execution_count": 5,
   "id": "0b252d12",
   "metadata": {
    "scrolled": true
   },
   "outputs": [
    {
     "name": "stdout",
     "output_type": "stream",
     "text": [
      "WARNING:tensorflow:From C:\\Users\\Acer\\anaconda3\\lib\\site-packages\\keras\\src\\optimizers\\__init__.py:309: The name tf.train.Optimizer is deprecated. Please use tf.compat.v1.train.Optimizer instead.\n",
      "\n",
      "Epoch 1/20\n",
      "WARNING:tensorflow:From C:\\Users\\Acer\\anaconda3\\lib\\site-packages\\keras\\src\\utils\\tf_utils.py:492: The name tf.ragged.RaggedTensorValue is deprecated. Please use tf.compat.v1.ragged.RaggedTensorValue instead.\n",
      "\n",
      "WARNING:tensorflow:From C:\\Users\\Acer\\anaconda3\\lib\\site-packages\\keras\\src\\engine\\base_layer_utils.py:384: The name tf.executing_eagerly_outside_functions is deprecated. Please use tf.compat.v1.executing_eagerly_outside_functions instead.\n",
      "\n",
      "118/118 [==============================] - 11s 56ms/step - loss: 0.4018 - accuracy: 0.8010 - val_loss: 0.6322 - val_accuracy: 0.5521\n",
      "Epoch 2/20\n",
      "118/118 [==============================] - 6s 50ms/step - loss: 0.1554 - accuracy: 0.9442 - val_loss: 0.5636 - val_accuracy: 0.6098\n",
      "Epoch 3/20\n",
      "118/118 [==============================] - 6s 50ms/step - loss: 0.1282 - accuracy: 0.9544 - val_loss: 0.2693 - val_accuracy: 0.9053\n",
      "Epoch 4/20\n",
      "118/118 [==============================] - 6s 50ms/step - loss: 0.1122 - accuracy: 0.9600 - val_loss: 0.1916 - val_accuracy: 0.9233\n",
      "Epoch 5/20\n",
      "118/118 [==============================] - 6s 51ms/step - loss: 0.0926 - accuracy: 0.9650 - val_loss: 0.1225 - val_accuracy: 0.9583\n",
      "Epoch 6/20\n",
      "118/118 [==============================] - 6s 52ms/step - loss: 0.0870 - accuracy: 0.9685 - val_loss: 0.1026 - val_accuracy: 0.9564\n",
      "Epoch 7/20\n",
      "118/118 [==============================] - 6s 50ms/step - loss: 0.0715 - accuracy: 0.9736 - val_loss: 0.0968 - val_accuracy: 0.9640\n",
      "Epoch 8/20\n",
      "118/118 [==============================] - 6s 50ms/step - loss: 0.0548 - accuracy: 0.9813 - val_loss: 0.1599 - val_accuracy: 0.9489\n",
      "Epoch 9/20\n",
      "118/118 [==============================] - 6s 52ms/step - loss: 0.0799 - accuracy: 0.9731 - val_loss: 0.2313 - val_accuracy: 0.9053\n",
      "Epoch 10/20\n",
      "118/118 [==============================] - 7s 55ms/step - loss: 0.0657 - accuracy: 0.9736 - val_loss: 0.1125 - val_accuracy: 0.9640\n",
      "Epoch 11/20\n",
      "118/118 [==============================] - 6s 51ms/step - loss: 0.0380 - accuracy: 0.9843 - val_loss: 0.1445 - val_accuracy: 0.9574\n",
      "Epoch 12/20\n",
      "118/118 [==============================] - 6s 51ms/step - loss: 0.0560 - accuracy: 0.9797 - val_loss: 0.1049 - val_accuracy: 0.9621\n",
      "Epoch 13/20\n",
      "118/118 [==============================] - 6s 52ms/step - loss: 0.0460 - accuracy: 0.9819 - val_loss: 0.1347 - val_accuracy: 0.9612\n",
      "Epoch 14/20\n",
      "118/118 [==============================] - 6s 49ms/step - loss: 0.0408 - accuracy: 0.9840 - val_loss: 0.2764 - val_accuracy: 0.9356\n",
      "Epoch 15/20\n",
      "118/118 [==============================] - 6s 51ms/step - loss: 0.0391 - accuracy: 0.9859 - val_loss: 0.1562 - val_accuracy: 0.9527\n",
      "Epoch 16/20\n",
      "118/118 [==============================] - 6s 50ms/step - loss: 0.0270 - accuracy: 0.9928 - val_loss: 0.1340 - val_accuracy: 0.9640\n",
      "Epoch 17/20\n",
      "118/118 [==============================] - 6s 51ms/step - loss: 0.0228 - accuracy: 0.9920 - val_loss: 0.1678 - val_accuracy: 0.9564\n",
      "Epoch 18/20\n",
      "118/118 [==============================] - 6s 53ms/step - loss: 0.0271 - accuracy: 0.9899 - val_loss: 0.2045 - val_accuracy: 0.9574\n",
      "Epoch 19/20\n",
      "118/118 [==============================] - 6s 54ms/step - loss: 0.0321 - accuracy: 0.9891 - val_loss: 0.1824 - val_accuracy: 0.9470\n",
      "Epoch 20/20\n",
      "118/118 [==============================] - 6s 52ms/step - loss: 0.0244 - accuracy: 0.9912 - val_loss: 0.2239 - val_accuracy: 0.9583\n"
     ]
    },
    {
     "data": {
      "text/plain": [
       "<keras.src.callbacks.History at 0x23251a22a40>"
      ]
     },
     "execution_count": 5,
     "metadata": {},
     "output_type": "execute_result"
    }
   ],
   "source": [
    "model.compile(optimizer='adam',loss='categorical_crossentropy',metrics=['accuracy'])\n",
    "\n",
    "model.fit(train_generator, validation_data=validation_generator,epochs=20,steps_per_epoch=steps_per_epoch ,validation_steps=validation_steps)"
   ]
  },
  {
   "cell_type": "markdown",
   "id": "8881fd08",
   "metadata": {},
   "source": [
    "### Evaluating Model"
   ]
  },
  {
   "cell_type": "code",
   "execution_count": 6,
   "id": "6fad725d",
   "metadata": {},
   "outputs": [
    {
     "name": "stdout",
     "output_type": "stream",
     "text": [
      "34/34 [==============================] - 1s 35ms/step - loss: 0.2214 - accuracy: 0.9588\n"
     ]
    },
    {
     "data": {
      "text/plain": [
       "[0.22143414616584778, 0.9588015079498291]"
      ]
     },
     "execution_count": 6,
     "metadata": {},
     "output_type": "execute_result"
    }
   ],
   "source": [
    "model.evaluate(validation_generator)"
   ]
  },
  {
   "cell_type": "markdown",
   "id": "70024f20",
   "metadata": {},
   "source": [
    "### Saving the model"
   ]
  },
  {
   "cell_type": "code",
   "execution_count": 7,
   "id": "95e3086f",
   "metadata": {},
   "outputs": [
    {
     "name": "stderr",
     "output_type": "stream",
     "text": [
      "C:\\Users\\Acer\\anaconda3\\lib\\site-packages\\keras\\src\\engine\\training.py:3103: UserWarning: You are saving your model as an HDF5 file via `model.save()`. This file format is considered legacy. We recommend using instead the native Keras format, e.g. `model.save('my_model.keras')`.\n",
      "  saving_api.save_model(\n"
     ]
    }
   ],
   "source": [
    "model.save('eye_model.h5')"
   ]
  },
  {
   "cell_type": "code",
   "execution_count": 8,
   "id": "7cde572c",
   "metadata": {},
   "outputs": [],
   "source": [
    "model_json = model.to_json()\n",
    "with open(\"eye_model.json\",\"w\") as json_file:\n",
    "    json_file.write(model_json)"
   ]
  },
  {
   "cell_type": "code",
   "execution_count": null,
   "id": "6090906c",
   "metadata": {},
   "outputs": [],
   "source": []
  },
  {
   "cell_type": "code",
   "execution_count": null,
   "id": "bbeacea6",
   "metadata": {},
   "outputs": [],
   "source": []
  }
 ],
 "metadata": {
  "kernelspec": {
   "display_name": "Python 3 (ipykernel)",
   "language": "python",
   "name": "python3"
  },
  "language_info": {
   "codemirror_mode": {
    "name": "ipython",
    "version": 3
   },
   "file_extension": ".py",
   "mimetype": "text/x-python",
   "name": "python",
   "nbconvert_exporter": "python",
   "pygments_lexer": "ipython3",
   "version": "3.10.9"
  }
 },
 "nbformat": 4,
 "nbformat_minor": 5
}
